{
 "cells": [
  {
   "cell_type": "code",
   "execution_count": 1,
   "metadata": {},
   "outputs": [],
   "source": [
    "# Notes on Jupyter Usage\n",
    "# Tony Held tony.held@gmail.com\n",
    "# Created 9/14/20"
   ]
  },
  {
   "cell_type": "code",
   "execution_count": null,
   "metadata": {},
   "outputs": [],
   "source": [
    "# **********************************************\n",
    "#    Jupyter Interactive Mode Settings\n",
    "#\n",
    "#    These control what is printed in the out: cell\n",
    "# **********************************************\n",
    "\n",
    "# How interactive you want is discussed:\n",
    "# https://ipython.readthedocs.io/en/stable/config/options/terminal.html\n",
    "# Options are: 'all', 'last', 'last_expr', 'none', 'last_expr_or_assign'\n",
    "# Default is: 'last_expr'\n",
    "# InteractiveShell.ast_node_interactivity I can only get last_expr_or_assign to work\n",
    "\n",
    "from IPython.core.interactiveshell import InteractiveShell\n",
    "InteractiveShell.ast_node_interactivity = \"last_expr_or_assign\""
   ]
  },
  {
   "cell_type": "code",
   "execution_count": 1,
   "metadata": {},
   "outputs": [],
   "source": [
    "# **********************************************\n",
    "# Allows autocomplete to work properly\n",
    "#\n",
    "# Tab for auto-complete options, tab to scroll down, return to select\n",
    "# Shift+Tab to get a functions signature (after you have imported them)\n",
    "#\n",
    "# https://stackoverflow.com/questions/40536560/ipython-and-jupyter-autocomplete-not-working\n",
    "# **********************************************\n",
    "\n",
    "%config Completer.use_jedi = False\n",
    "\n",
    "# Not sure how/when this helps\n",
    "# %config IPCompleter.greedy = True"
   ]
  },
  {
   "cell_type": "code",
   "execution_count": 1,
   "metadata": {},
   "outputs": [],
   "source": [
    "import pprint\n",
    "pp = pprint.PrettyPrinter(indent=4)\n",
    "# usage pp.pprint(stuff)"
   ]
  },
  {
   "cell_type": "code",
   "execution_count": null,
   "metadata": {},
   "outputs": [],
   "source": [
    "# To start a windows terminal from an existing one in a new window run\n",
    "# start cmd.exe"
   ]
  },
  {
   "cell_type": "code",
   "execution_count": null,
   "metadata": {},
   "outputs": [],
   "source": [
    "def values(var, exclude_starting_with=\"_\"):\n",
    "    \"\"\"Show variable attributes and values for diagnostic debugging purposes.\n",
    "    \n",
    "    Set exclude_starting_with to '' if you wish to include all attributes.\"\"\"\n",
    "    \n",
    "    print(f'Variable type: {type(var)}')\n",
    "    \n",
    "    if exclude_starting_with:\n",
    "        attrs = [i for i in dir(var) if not i.startswith(exclude_starting_with)]\n",
    "    else:\n",
    "        attrs = [i for i in dir(var)]\n",
    "            \n",
    "    for i in attrs:\n",
    "        print(f'\\n{i}:\\n{\"-\"*20}\\n{getattr(var, i)}')"
   ]
  },
  {
   "cell_type": "code",
   "execution_count": 3,
   "metadata": {},
   "outputs": [],
   "source": [
    "# Matplotlib Notes\n",
    "\n",
    "# Mode you can select for jupyter, allows for nice formatting of a figure in the output cell.\n",
    "%matplotlib notebook\n",
    "\n",
    "# seems to suppress figure output ... don't use it\n",
    "# %matplotlib"
   ]
  },
  {
   "cell_type": "code",
   "execution_count": null,
   "metadata": {},
   "outputs": [],
   "source": [
    "# Notes & hints on Matplotlib & related visualization\n",
    "# Created by: Tony Held, tony.held@gmail.com\n",
    "# Created on: 12/01/2020\n",
    "\n",
    "# **********************************************\n",
    "#    Standard Imports \n",
    "# **********************************************\n",
    "\n",
    "import numpy as np\n",
    "import pandas as pd\n",
    "import matplotlib\n",
    "import matplotlib.pyplot as plt\n",
    "import seaborn as sns\n",
    "import datetime\n",
    "\n",
    "# **********************************************\n",
    "#    Matplotlib related settings \n",
    "#\n",
    "#    (also applies to figures created in pandas)\n",
    "# **********************************************\n",
    "\n",
    "# Jupyter specific settings start with %\n",
    "\n",
    "# %matplotlib 'option' determines if figures are inline or will update dynamically\n",
    "\n",
    "# Not dynamic, but may be the most robust\n",
    "# %matplotlib inline\n",
    "# Dynamic and can update figures\n",
    "%matplotlib notebook\n",
    "# May only work in jupyter labs (not notebook)\n",
    "# %matplotlib widget     \n",
    "\n",
    "# Default matplotlib figure size\n",
    "plt.rcParams[\"figure.figsize\"] = (5,3)     # Set default fig size\n",
    "\n",
    "# Setting figure size parameter for a single plot made from a pandas dataframe\n",
    "# df.plot(figsize=(4,3))\n",
    "\n",
    "# **********************************************\n",
    "#    Matplotlib Figure Paradigms\n",
    "#\n",
    "#    Details at: https://matplotlib.org/3.3.3/tutorials/introductory/usage.html\n",
    "# **********************************************\n",
    "\n",
    "# There are two paradigms for using Matplotlib to create/manipulate matplotlib figures:\n",
    "\n",
    "#    1.  Explicitly create figures and axes, \n",
    "#           and call methods on them from an axes (the \"object-oriented (OO) style\").\n",
    "#    2.  Rely on pyplot to automatically create and manage the figures and axes, \n",
    "#           and use pyplot functions for plotting.\n",
    "\n",
    "# In OO style you create the figures and axis ahead of time \n",
    "# and then call plot on the axis you created\n",
    "\n",
    "# fig, ax = plt.subplots()  # Create a figure and an axes.\n",
    "# ax.plot(x,y)              # call plot from the axes you created\n",
    "# ax.set_xlabel('x label')  # Add an label to the x axes.\n",
    "\n",
    "\n",
    "# In automatic mode, you call plot and the figures/axes will be created dynamically\n",
    "# It requires less code than OO mode initially, but if you want to modify the figure\n",
    "# it may require additional code to determine the proper references to the figure/axes\n",
    "\n",
    "# plt.plot(x,y)              # create plot - matplotlib guesses which figure/axes to put it on\n",
    "# plt.xlabel('x label')      # Add an label to the x axes\n",
    "                             # Notice you don't use 'set_' when labeling from plt\n",
    "                             # Whereas you did when plotting in OO mode\n",
    "        \n",
    "# The form of the plot documentation for each mode is:\n",
    "# matplotlib.pyplot.function     # Automatic Mode\n",
    "# matplotlib.axes.Axes.function  # OO Mode\n",
    "\n",
    "\n",
    "# Some automatic mode statements that may be useful\n",
    "# plt.get_fignums()       # Get list of active figures\n",
    "# plt.figure(x);          # Activate the figure if it exists, create it if it does not\n",
    "                          # Semi colon is recommended so  you don't have multiple visualizations of the same fig\n",
    "# plt.close('all')        # Close all open figures\n",
    "# plt.gcf()               # Get the current figure.\n",
    "                          # If no current figure exists, a new one is created using figure()\n",
    "# plt.gca()               # Get the current axes, creating one if necessary.\n",
    "\n",
    "# Additional useful function calls\n",
    "# ax_list = fig.axes      <-- Returns a list of the Axes objects in the Figure object:\n",
    "\n",
    "\n",
    "# **********************************************\n",
    "#    Panda Figure Paradigms\n",
    "# **********************************************\n",
    "\n",
    "# If you plot directly from a panda object (e.g. a DataFrame)\n",
    "# your plot will be created in the automatic mode listed above\n",
    "\n",
    "# If you want your plot to be placed on an axes created in OO mode\n",
    "# you can specify the axis in the plot statement as follows\n",
    "\n",
    "# fig, ax = plt.subplots()\n",
    "# df.plot(..., axis=ax)"
   ]
  }
 ],
 "metadata": {
  "kernelspec": {
   "display_name": "Python 3",
   "language": "python",
   "name": "python3"
  },
  "language_info": {
   "codemirror_mode": {
    "name": "ipython",
    "version": 3
   },
   "file_extension": ".py",
   "mimetype": "text/x-python",
   "name": "python",
   "nbconvert_exporter": "python",
   "pygments_lexer": "ipython3",
   "version": "3.8.5"
  },
  "varInspector": {
   "cols": {
    "lenName": 16,
    "lenType": 16,
    "lenVar": 40
   },
   "kernels_config": {
    "python": {
     "delete_cmd_postfix": "",
     "delete_cmd_prefix": "del ",
     "library": "var_list.py",
     "varRefreshCmd": "print(var_dic_list())"
    },
    "r": {
     "delete_cmd_postfix": ") ",
     "delete_cmd_prefix": "rm(",
     "library": "var_list.r",
     "varRefreshCmd": "cat(var_dic_list()) "
    }
   },
   "position": {
    "height": "256.848px",
    "left": "662.429px",
    "right": "20px",
    "top": "247px",
    "width": "368px"
   },
   "types_to_exclude": [
    "module",
    "function",
    "builtin_function_or_method",
    "instance",
    "_Feature"
   ],
   "window_display": true
  }
 },
 "nbformat": 4,
 "nbformat_minor": 4
}